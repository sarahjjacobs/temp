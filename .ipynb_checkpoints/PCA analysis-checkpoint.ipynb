{
 "cells": [
  {
   "cell_type": "markdown",
   "metadata": {},
   "source": [
    "## PCA analyses"
   ]
  },
  {
   "cell_type": "code",
   "execution_count": null,
   "metadata": {},
   "outputs": [],
   "source": []
  },
  {
   "cell_type": "code",
   "execution_count": 1,
   "metadata": {},
   "outputs": [],
   "source": [
    "%matplotlib inline\n",
    "import ipyrad\n",
    "import ipyrad.analysis as ipa"
   ]
  },
  {
   "cell_type": "code",
   "execution_count": 2,
   "metadata": {},
   "outputs": [
    {
     "name": "stdout",
     "output_type": "stream",
     "text": [
      "loading Assembly: subset1\n",
      "from saved path: ~/Desktop/data_to_mess_with/subset1.json\n"
     ]
    },
    {
     "data": {
      "text/plain": [
       "<matplotlib.axes._subplots.AxesSubplot at 0x1c212f29d0>"
      ]
     },
     "execution_count": 2,
     "metadata": {},
     "output_type": "execute_result"
    },
    {
     "data": {
      "image/png": "[encoded data removed]",
      "text/plain": [
       "<matplotlib.figure.Figure at 0x10dec7550>"
      ]
     },
     "metadata": {},
     "output_type": "display_data"
    }
   ],
   "source": [
    "## load assembly\n",
    "data = ipyrad.load_json(\"/Users/sjjacobs/Desktop/data_to_mess_with/subset1.json\")\n",
    "\n",
    "## create the pca object\n",
    "pca = ipa.pca(data)\n",
    "\n",
    "## quick!\n",
    "pca.plot()"
   ]
  },
  {
   "cell_type": "code",
   "execution_count": 3,
   "metadata": {},
   "outputs": [],
   "source": [
    "pops_dict = {\n",
    "    \"paniculata\":[\"FZ266_paniculata\",\"FZ271_paniculata\",\"FZ200_paniculata\",\"JW11465_paniculata\"],\n",
    "    \"piurensis\":[\"FZ236_piurensis\",\"FZ238_piurensis\"],\n",
    "    \"farinacea\":[\"WP152_farinacea\",\"WP160_farinacea\"],\n",
    "    \"bifida\":[\"LF61_bifida\"],\n",
    "    \"megapotamica\":[\"LF72_megapotamica\"],\n",
    "    \"ledifolia\":[\"LF59_ledifolia\",\"LF57_ledifolia\"]\n",
    "}"
   ]
  },
  {
   "cell_type": "code",
   "execution_count": 4,
   "metadata": {},
   "outputs": [
    {
     "data": {
      "text/plain": [
       "<matplotlib.axes._subplots.AxesSubplot at 0x1c2133c2d0>"
      ]
     },
     "execution_count": 4,
     "metadata": {},
     "output_type": "execute_result"
    },
    {
     "data": {
      "image/png": "[encoded data removed]",
      "text/plain": [
       "<matplotlib.figure.Figure at 0x1c269cd190>"
      ]
     },
     "metadata": {},
     "output_type": "display_data"
    }
   ],
   "source": [
    "pca = ipa.pca(data, pops_dict)\n",
    "pca.plot()"
   ]
  },
  {
   "cell_type": "markdown",
   "metadata": {},
   "source": [
    "## i'm adding a new section"
   ]
  },
  {
   "cell_type": "markdown",
   "metadata": {},
   "source": [
    "## Ohp, here's another section!"
   ]
  },
  {
   "cell_type": "markdown",
   "metadata": {},
   "source": [
    "## Inspecting PCs directly"
   ]
  },
  {
   "cell_type": "code",
   "execution_count": 5,
   "metadata": {},
   "outputs": [
    {
     "data": {
      "text/html": [
       "<div>\n",
       "<style scoped>\n",
       "    .dataframe tbody tr th:only-of-type {\n",
       "        vertical-align: middle;\n",
       "    }\n",
       "\n",
       "    .dataframe tbody tr th {\n",
       "        vertical-align: top;\n",
       "    }\n",
       "\n",
       "    .dataframe thead th {\n",
       "        text-align: right;\n",
       "    }\n",
       "</style>\n",
       "<table border=\"1\" class=\"dataframe\">\n",
       "  <thead>\n",
       "    <tr style=\"text-align: right;\">\n",
       "      <th></th>\n",
       "      <th>PC1</th>\n",
       "      <th>PC2</th>\n",
       "      <th>PC3</th>\n",
       "      <th>PC4</th>\n",
       "      <th>PC5</th>\n",
       "      <th>PC6</th>\n",
       "      <th>PC7</th>\n",
       "      <th>PC8</th>\n",
       "      <th>PC9</th>\n",
       "      <th>PC10</th>\n",
       "    </tr>\n",
       "  </thead>\n",
       "  <tbody>\n",
       "    <tr>\n",
       "      <th>FZ200_paniculata</th>\n",
       "      <td>-255.964</td>\n",
       "      <td>108.013</td>\n",
       "      <td>-9.220</td>\n",
       "      <td>3.577</td>\n",
       "      <td>5.991</td>\n",
       "      <td>60.055</td>\n",
       "      <td>139.444</td>\n",
       "      <td>-7.576</td>\n",
       "      <td>29.646</td>\n",
       "      <td>-5.079</td>\n",
       "    </tr>\n",
       "    <tr>\n",
       "      <th>FZ236_piurensis</th>\n",
       "      <td>-99.312</td>\n",
       "      <td>-330.483</td>\n",
       "      <td>-20.251</td>\n",
       "      <td>8.280</td>\n",
       "      <td>11.210</td>\n",
       "      <td>5.889</td>\n",
       "      <td>3.896</td>\n",
       "      <td>119.533</td>\n",
       "      <td>2.131</td>\n",
       "      <td>0.092</td>\n",
       "    </tr>\n",
       "    <tr>\n",
       "      <th>FZ238_piurensis</th>\n",
       "      <td>-86.778</td>\n",
       "      <td>-319.748</td>\n",
       "      <td>-17.238</td>\n",
       "      <td>6.188</td>\n",
       "      <td>7.451</td>\n",
       "      <td>-0.922</td>\n",
       "      <td>-5.395</td>\n",
       "      <td>-123.446</td>\n",
       "      <td>-4.269</td>\n",
       "      <td>-0.339</td>\n",
       "    </tr>\n",
       "    <tr>\n",
       "      <th>FZ266_paniculata</th>\n",
       "      <td>-248.181</td>\n",
       "      <td>109.698</td>\n",
       "      <td>-6.482</td>\n",
       "      <td>2.849</td>\n",
       "      <td>5.440</td>\n",
       "      <td>76.136</td>\n",
       "      <td>-105.524</td>\n",
       "      <td>-0.709</td>\n",
       "      <td>70.871</td>\n",
       "      <td>-11.886</td>\n",
       "    </tr>\n",
       "    <tr>\n",
       "      <th>FZ271_paniculata</th>\n",
       "      <td>-258.328</td>\n",
       "      <td>116.473</td>\n",
       "      <td>-8.376</td>\n",
       "      <td>3.491</td>\n",
       "      <td>5.881</td>\n",
       "      <td>40.933</td>\n",
       "      <td>-30.514</td>\n",
       "      <td>4.621</td>\n",
       "      <td>-110.793</td>\n",
       "      <td>18.053</td>\n",
       "    </tr>\n",
       "    <tr>\n",
       "      <th>JW11465_paniculata</th>\n",
       "      <td>-231.902</td>\n",
       "      <td>95.485</td>\n",
       "      <td>-5.129</td>\n",
       "      <td>0.692</td>\n",
       "      <td>0.531</td>\n",
       "      <td>-189.925</td>\n",
       "      <td>-4.607</td>\n",
       "      <td>2.687</td>\n",
       "      <td>13.934</td>\n",
       "      <td>-2.689</td>\n",
       "    </tr>\n",
       "    <tr>\n",
       "      <th>LF57_ledifolia</th>\n",
       "      <td>215.508</td>\n",
       "      <td>45.221</td>\n",
       "      <td>8.055</td>\n",
       "      <td>202.742</td>\n",
       "      <td>-3.285</td>\n",
       "      <td>0.717</td>\n",
       "      <td>0.342</td>\n",
       "      <td>1.402</td>\n",
       "      <td>-16.089</td>\n",
       "      <td>-93.554</td>\n",
       "    </tr>\n",
       "    <tr>\n",
       "      <th>LF59_ledifolia</th>\n",
       "      <td>208.951</td>\n",
       "      <td>43.523</td>\n",
       "      <td>13.501</td>\n",
       "      <td>200.991</td>\n",
       "      <td>-0.285</td>\n",
       "      <td>0.327</td>\n",
       "      <td>0.299</td>\n",
       "      <td>-0.451</td>\n",
       "      <td>15.902</td>\n",
       "      <td>94.715</td>\n",
       "    </tr>\n",
       "    <tr>\n",
       "      <th>LF61_bifida</th>\n",
       "      <td>179.539</td>\n",
       "      <td>26.219</td>\n",
       "      <td>234.090</td>\n",
       "      <td>-112.267</td>\n",
       "      <td>178.415</td>\n",
       "      <td>0.439</td>\n",
       "      <td>0.815</td>\n",
       "      <td>0.560</td>\n",
       "      <td>-0.630</td>\n",
       "      <td>-1.227</td>\n",
       "    </tr>\n",
       "    <tr>\n",
       "      <th>LF72_megapotamica</th>\n",
       "      <td>128.766</td>\n",
       "      <td>6.669</td>\n",
       "      <td>158.555</td>\n",
       "      <td>-98.437</td>\n",
       "      <td>-234.541</td>\n",
       "      <td>4.574</td>\n",
       "      <td>0.991</td>\n",
       "      <td>2.176</td>\n",
       "      <td>-0.687</td>\n",
       "      <td>0.247</td>\n",
       "    </tr>\n",
       "    <tr>\n",
       "      <th>WP152_farinacea</th>\n",
       "      <td>220.355</td>\n",
       "      <td>48.181</td>\n",
       "      <td>-172.062</td>\n",
       "      <td>-109.816</td>\n",
       "      <td>9.081</td>\n",
       "      <td>0.370</td>\n",
       "      <td>-0.328</td>\n",
       "      <td>0.362</td>\n",
       "      <td>1.369</td>\n",
       "      <td>6.921</td>\n",
       "    </tr>\n",
       "    <tr>\n",
       "      <th>WP160_farinacea</th>\n",
       "      <td>227.376</td>\n",
       "      <td>50.635</td>\n",
       "      <td>-175.551</td>\n",
       "      <td>-108.259</td>\n",
       "      <td>14.165</td>\n",
       "      <td>1.453</td>\n",
       "      <td>0.587</td>\n",
       "      <td>0.845</td>\n",
       "      <td>-1.438</td>\n",
       "      <td>-5.259</td>\n",
       "    </tr>\n",
       "  </tbody>\n",
       "</table>\n",
       "</div>"
      ],
      "text/plain": [
       "                        PC1      PC2      PC3      PC4      PC5      PC6  \\\n",
       "FZ200_paniculata   -255.964  108.013   -9.220    3.577    5.991   60.055   \n",
       "FZ236_piurensis     -99.312 -330.483  -20.251    8.280   11.210    5.889   \n",
       "FZ238_piurensis     -86.778 -319.748  -17.238    6.188    7.451   -0.922   \n",
       "FZ266_paniculata   -248.181  109.698   -6.482    2.849    5.440   76.136   \n",
       "FZ271_paniculata   -258.328  116.473   -8.376    3.491    5.881   40.933   \n",
       "JW11465_paniculata -231.902   95.485   -5.129    0.692    0.531 -189.925   \n",
       "LF57_ledifolia      215.508   45.221    8.055  202.742   -3.285    0.717   \n",
       "LF59_ledifolia      208.951   43.523   13.501  200.991   -0.285    0.327   \n",
       "LF61_bifida         179.539   26.219  234.090 -112.267  178.415    0.439   \n",
       "LF72_megapotamica   128.766    6.669  158.555  -98.437 -234.541    4.574   \n",
       "WP152_farinacea     220.355   48.181 -172.062 -109.816    9.081    0.370   \n",
       "WP160_farinacea     227.376   50.635 -175.551 -108.259   14.165    1.453   \n",
       "\n",
       "                        PC7      PC8      PC9    PC10  \n",
       "FZ200_paniculata    139.444   -7.576   29.646  -5.079  \n",
       "FZ236_piurensis       3.896  119.533    2.131   0.092  \n",
       "FZ238_piurensis      -5.395 -123.446   -4.269  -0.339  \n",
       "FZ266_paniculata   -105.524   -0.709   70.871 -11.886  \n",
       "FZ271_paniculata    -30.514    4.621 -110.793  18.053  \n",
       "JW11465_paniculata   -4.607    2.687   13.934  -2.689  \n",
       "LF57_ledifolia        0.342    1.402  -16.089 -93.554  \n",
       "LF59_ledifolia        0.299   -0.451   15.902  94.715  \n",
       "LF61_bifida           0.815    0.560   -0.630  -1.227  \n",
       "LF72_megapotamica     0.991    2.176   -0.687   0.247  \n",
       "WP152_farinacea      -0.328    0.362    1.369   6.921  \n",
       "WP160_farinacea       0.587    0.845   -1.438  -5.259  "
      ]
     },
     "execution_count": 5,
     "metadata": {},
     "output_type": "execute_result"
    }
   ],
   "source": [
    "pca.pcs"
   ]
  },
  {
   "cell_type": "markdown",
   "metadata": {},
   "source": [
    "## what other stuff might i want to see?"
   ]
  },
  {
   "cell_type": "markdown",
   "metadata": {},
   "source": [
    "## here are PCs 2 and 3 (as opposed to 1 and 2 above)"
   ]
  },
  {
   "cell_type": "code",
   "execution_count": 6,
   "metadata": {},
   "outputs": [
    {
     "data": {
      "text/plain": [
       "<matplotlib.axes._subplots.AxesSubplot at 0x1c26c30cd0>"
      ]
     },
     "execution_count": 6,
     "metadata": {},
     "output_type": "execute_result"
    },
    {
     "data": {
      "image/png": "[encoded data removed]",
      "text/plain": [
       "<matplotlib.figure.Figure at 0x1c26c06690>"
      ]
     },
     "metadata": {},
     "output_type": "display_data"
    }
   ],
   "source": [
    "pca = ipa.pca(data, pops_dict)\n",
    "pca.plot(pcs=[2,3])"
   ]
  },
  {
   "cell_type": "markdown",
   "metadata": {},
   "source": [
    "##### interesting ... bifida and megapotamica are much different from ledifolia and farinacea on these axes, than on PCs 1 and 2."
   ]
  },
  {

   "cell_type": "code",
   "execution_count": null,
   "metadata": {},
   "outputs": [],
   "source": []
  }
 ],
 "metadata": {
  "kernelspec": {
   "display_name": "Python 2",
   "language": "python",
   "name": "python2"
  },
  "language_info": {
   "codemirror_mode": {
    "name": "ipython",
    "version": 2
   },
   "file_extension": ".py",
   "mimetype": "text/x-python",
   "name": "python",
   "nbconvert_exporter": "python",
   "pygments_lexer": "ipython2",
   "version": "2.7.14"
  }
 },
 "nbformat": 4,
 "nbformat_minor": 2
}
